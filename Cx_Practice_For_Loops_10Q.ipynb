{
 "cells": [
  {
   "cell_type": "markdown",
   "metadata": {},
   "source": [
    "# Python practice problems with for loops, dict, input"
   ]
  },
  {
   "cell_type": "code",
   "execution_count": 45,
   "metadata": {},
   "outputs": [],
   "source": [
    "# Review Python \"input\" # this should help with assignments below"
   ]
  },
  {
   "cell_type": "code",
   "execution_count": 1,
   "metadata": {},
   "outputs": [
    {
     "name": "stdout",
     "output_type": "stream",
     "text": [
      "Which year will be next summer Olympics? 2020\n"
     ]
    }
   ],
   "source": [
    "Olympic_year = input(\"Which year will be next summer Olympics? \")"
   ]
  },
  {
   "cell_type": "code",
   "execution_count": 2,
   "metadata": {},
   "outputs": [
    {
     "name": "stdout",
     "output_type": "stream",
     "text": [
      "<class 'str'>\n"
     ]
    }
   ],
   "source": [
    "print(type(Olympic_year)) # it is string"
   ]
  },
  {
   "cell_type": "code",
   "execution_count": 48,
   "metadata": {},
   "outputs": [
    {
     "name": "stdout",
     "output_type": "stream",
     "text": [
      "<class 'int'>\n"
     ]
    }
   ],
   "source": [
    "print(type(int(Olympic_year))) # it is integer"
   ]
  },
  {
   "cell_type": "markdown",
   "metadata": {},
   "source": [
    "1) Write a for loop to print \"Hello\" 10 times."
   ]
  },
  {
   "cell_type": "code",
   "execution_count": 4,
   "metadata": {},
   "outputs": [
    {
     "name": "stdout",
     "output_type": "stream",
     "text": [
      "Hello\n",
      "Hello\n",
      "Hello\n",
      "Hello\n",
      "Hello\n",
      "Hello\n",
      "Hello\n",
      "Hello\n",
      "Hello\n",
      "Hello\n"
     ]
    }
   ],
   "source": [
    "# Write code here ...\n",
    "for i in range(10):\n",
    "    print(\"Hello\")"
   ]
  },
  {
   "cell_type": "markdown",
   "metadata": {},
   "source": [
    "2) Write a for loop to print even numbers in the range 1 .. 20"
   ]
  },
  {
   "cell_type": "code",
   "execution_count": 8,
   "metadata": {},
   "outputs": [
    {
     "name": "stdout",
     "output_type": "stream",
     "text": [
      "2\n",
      "4\n",
      "6\n",
      "8\n",
      "10\n",
      "12\n",
      "14\n",
      "16\n",
      "18\n",
      "20\n"
     ]
    }
   ],
   "source": [
    "# Write code here ...\n",
    "for i in range(2,21,2):\n",
    "    print(i)\n",
    "  "
   ]
  },
  {
   "cell_type": "code",
   "execution_count": 51,
   "metadata": {},
   "outputs": [
    {
     "data": {
      "text/plain": [
       "'\\n3) Define a list of animals to be as follows:\\nanimals = [\"lion\",\"tiger\",\"elephant\",\"giraffe\",\"zebra\"]\\n\\nNow print animal names using for loop. The output should be as follows:\\n1 lion\\n2 tiger\\n3 elephant\\n4 giraffe\\n5 zebra\\n'"
      ]
     },
     "execution_count": 51,
     "metadata": {},
     "output_type": "execute_result"
    }
   ],
   "source": [
    "\"\"\"\n",
    "3) Define a list of animals to be as follows:\n",
    "animals = [\"lion\",\"tiger\",\"elephant\",\"giraffe\",\"zebra\"]\n",
    "\n",
    "Now print animal names using for loop. The output should be as follows:\n",
    "1 lion\n",
    "2 tiger\n",
    "3 elephant\n",
    "4 giraffe\n",
    "5 zebra\n",
    "\"\"\""
   ]
  },
  {
   "cell_type": "code",
   "execution_count": 13,
   "metadata": {},
   "outputs": [
    {
     "name": "stdout",
     "output_type": "stream",
     "text": [
      "1 lion\n",
      "2 tiger\n",
      "3 elephant\n",
      "4 giraffe\n",
      "5 zebra\n"
     ]
    }
   ],
   "source": [
    "# Write code here ...\n",
    "animals = [\"lion\",\"tiger\",\"elephant\",\"giraffe\",\"zebra\"]\n",
    "\n",
    "for i in animals:\n",
    "    print((animals.index(i) + 1), i)"
   ]
  },
  {
   "cell_type": "code",
   "execution_count": 53,
   "metadata": {},
   "outputs": [
    {
     "data": {
      "text/plain": [
       "'\\n4) Visiting moon every year for next 10 years\\nThe weight on moon can be estimated to be 18%  of weight on earth.\\nWrite a program which will ask the user to enter current earth weight.\\nThen calculate weight on moon. Assume our weight increases by 2 pounds every year on earth.\\n\\nUse for loop to print weight on moon each year when you visit.\\n'"
      ]
     },
     "execution_count": 53,
     "metadata": {},
     "output_type": "execute_result"
    }
   ],
   "source": [
    "\"\"\"\n",
    "4) Visiting moon every year for next 10 years\n",
    "The weight on moon can be estimated to be 18%  of weight on earth.\n",
    "Write a program which will ask the user to enter current earth weight.\n",
    "Then calculate weight on moon. Assume our weight increases by 2 pounds every year on earth.\n",
    "\n",
    "Use for loop to print weight on moon each year when you visit.\n",
    "\"\"\""
   ]
  },
  {
   "cell_type": "code",
   "execution_count": 35,
   "metadata": {},
   "outputs": [
    {
     "name": "stdout",
     "output_type": "stream",
     "text": [
      "Enter your weight:34\n",
      "2018\n",
      "Your weight in Moon will be in 2018 : 6.12\n",
      "Your weight in Moon will be in 2019 : 8.120000000000001\n",
      "Your weight in Moon will be in 2020 : 10.120000000000001\n",
      "Your weight in Moon will be in 2021 : 12.120000000000001\n",
      "Your weight in Moon will be in 2022 : 14.120000000000001\n",
      "Your weight in Moon will be in 2023 : 16.12\n",
      "Your weight in Moon will be in 2024 : 18.12\n",
      "Your weight in Moon will be in 2025 : 20.12\n",
      "Your weight in Moon will be in 2026 : 22.12\n",
      "Your weight in Moon will be in 2027 : 24.12\n"
     ]
    }
   ],
   "source": [
    "# Write code here ...\n",
    "Earth_year = float(input('Enter your weight:'))\n",
    "from datetime import datetime\n",
    "current_year = int(datetime.today().year)\n",
    "print(current_year)\n",
    "x = 2\n",
    "for i in range(10):   \n",
    "    print('Your weight in Moon will be in', (current_year + i),':', (18/100*Earth_year) + (x*i))"
   ]
  },
  {
   "cell_type": "markdown",
   "metadata": {},
   "source": [
    "5) Write a for loop to find the sum of all numbers from 1 to 100; 1 + 2 + ... + 99 + 100"
   ]
  },
  {
   "cell_type": "code",
   "execution_count": 37,
   "metadata": {},
   "outputs": [
    {
     "name": "stdout",
     "output_type": "stream",
     "text": [
      "5050\n"
     ]
    }
   ],
   "source": [
    "# Write code here ...\n",
    "sum = 0\n",
    "for i in range(101):\n",
    "    sum = sum + i\n",
    "print(sum)"
   ]
  },
  {
   "cell_type": "markdown",
   "metadata": {},
   "source": [
    "6) Write a for loop which will ask the user to input 4 numbers. The program should calculate sum of 4 numbers and print the sum."
   ]
  },
  {
   "cell_type": "code",
   "execution_count": 2,
   "metadata": {},
   "outputs": [
    {
     "name": "stdout",
     "output_type": "stream",
     "text": [
      "Enter 1st number:3\n",
      "Enter 2nd number:4\n",
      "Enter 3rd number:5\n",
      "Enter 4th number:6\n",
      "18\n"
     ]
    }
   ],
   "source": [
    "# Write code here ...\n",
    "x = int(input('Enter 1st number:'))\n",
    "y = int(input('Enter 2nd number:'))\n",
    "z = int(input('Enter 3rd number:'))\n",
    "a = int(input('Enter 4th number:'))\n",
    "\n",
    "print((x+y+z+a)) "
   ]
  },
  {
   "cell_type": "markdown",
   "metadata": {},
   "source": [
    "7) Write a Python for loop to find product of even number from 1 to 50;\n",
    "2 x 4 x 6 x 8 x ... x 42 x 44 x 46 x 50"
   ]
  },
  {
   "cell_type": "code",
   "execution_count": null,
   "metadata": {},
   "outputs": [],
   "source": [
    "# Write code here ...\n",
    "product = 1\n",
    "for i in range(2, 51, 2):\n",
    "    product = product * i\n",
    "#    print(i)\n",
    "print('product: ', product)"
   ]
  },
  {
   "cell_type": "markdown",
   "metadata": {},
   "source": [
    "8a) Find the index of minimum and maximum number in MyList."
   ]
  },
  {
   "cell_type": "code",
   "execution_count": 2,
   "metadata": {},
   "outputs": [],
   "source": [
    "myList = [46, 84, 43, 75, 94, 7, 17, 76, 44, 17, 81, 21, 70, 56, 98, 88, 59, 58, 62, 77, \n",
    "          56, 19, 83, 82, 2, 38, 8, 57, 80, 54, 71, 74, 77, 18, 66, 25, 60, 29, 30, 11, \n",
    "          45, 60, 92, 44, 71, 49, 22, 74, 30, 58, 73, 60, 14, 97, 13, 78, 42, 17, 98, 14, \n",
    "          19, 79, 54, 56, 84, 81, 49, 18, 95, 36, 84, 77, 44, 69, 48, 94, 66, 13, 96, 7, \n",
    "          9, 47, 4, 37, 71, 51, 9, 28, 92, 38, 75, 66, 2, 34, 88, 4, 43, 75, 57, 83,\n",
    "          63, 17, 25, 98, 71, 95, 1, 86, 97, 90, 6, 96, 11, 49, 16, 91, 50, 66, 54, 94,\n",
    "          75, 69, 97, 23, 50, 13, 75, 15, 77, 17, 57, 59, 47, 44, 95, 28, 16, 72, 69, 7,\n",
    "          14, 76, 10, 21, 56, 89, 51, 78, 25, 7, 8, 17, 53, 86, 58, 35, 46, 16, 74, 21, 9,\n",
    "          4, 91, 59, 84, 50, 86, 60, 63, 99, 92, 64, 55, 40, 93, 39, 48, 96, 49, 98, 36,\n",
    "          72, 82, 45, 62, 58, 77, 17, 42, 49, 38, 21, 84, 61, 77, 1, 37, 31, 50, 52, 58]"
   ]
  },
  {
   "cell_type": "code",
   "execution_count": 10,
   "metadata": {},
   "outputs": [
    {
     "name": "stdout",
     "output_type": "stream",
     "text": [
      "length: 201\n",
      "minimum: 1 index: 106\n",
      "maximum: 99 index: 169\n",
      "minimum: 1 , index: (array([106, 195], dtype=int64),)\n",
      "maximum: 99 , index: (array([169], dtype=int64),)\n"
     ]
    }
   ],
   "source": [
    "# Write code here ...\n",
    "import numpy as np\n",
    "\n",
    "print('length:', len(myList))\n",
    "print('minimum:', min(myList), 'index:', myList.index(min(myList)))\n",
    "print('maximum:', max(myList), 'index:', myList.index(max(myList)))\n",
    "array1 = np.array(myList)\n",
    "print('minimum:', min(myList), ', index:', np.where(array1 == min(myList)))\n",
    "print('maximum:', max(myList), ', index:', np.where(array1 == max(myList)))"
   ]
  },
  {
   "cell_type": "markdown",
   "metadata": {},
   "source": [
    "8b) In myList, find top-5 highest frequency numbers. List the numbers and number of occurences."
   ]
  },
  {
   "cell_type": "code",
   "execution_count": 10,
   "metadata": {},
   "outputs": [
    {
     "name": "stdout",
     "output_type": "stream",
     "text": [
      "dict1:\n",
      "{46: 2, 84: 5, 43: 2, 75: 5, 94: 3, 7: 4, 17: 7, 76: 2, 44: 4, 81: 2, 21: 4, 70: 1, 56: 4, 98: 4, 88: 2, 59: 3, 58: 5, 62: 2, 77: 6, 19: 2, 83: 2, 82: 2, 2: 2, 38: 3, 8: 2, 57: 3, 80: 1, 54: 3, 71: 4, 74: 3, 18: 2, 66: 4, 25: 3, 60: 4, 29: 1, 30: 2, 11: 2, 45: 2, 92: 3, 49: 5, 22: 1, 73: 1, 14: 3, 97: 3, 13: 3, 78: 2, 42: 2, 79: 1, 95: 3, 36: 2, 69: 3, 48: 2, 96: 3, 9: 3, 47: 2, 4: 3, 37: 2, 51: 2, 28: 2, 34: 1, 63: 2, 1: 2, 86: 3, 90: 1, 6: 1, 16: 3, 91: 2, 50: 4, 23: 1, 15: 1, 72: 2, 10: 1, 89: 1, 53: 1, 35: 1, 99: 1, 64: 1, 55: 1, 40: 1, 93: 1, 39: 1, 61: 1, 31: 1, 52: 1}\n",
      "vals:\n",
      "[2, 5, 2, 5, 3, 4, 7, 2, 4, 2, 4, 1, 4, 4, 2, 3, 5, 2, 6, 2, 2, 2, 2, 3, 2, 3, 1, 3, 4, 3, 2, 4, 3, 4, 1, 2, 2, 2, 3, 5, 1, 1, 3, 3, 3, 2, 2, 1, 3, 2, 3, 2, 3, 3, 2, 3, 2, 2, 2, 1, 2, 2, 3, 1, 1, 3, 2, 4, 1, 1, 2, 1, 1, 1, 1, 1, 1, 1, 1, 1, 1, 1, 1, 1]\n",
      "[7, 6, 5, 5, 5, 5, 4, 4, 4, 4, 4, 4, 4, 4, 4, 3, 3, 3, 3, 3, 3, 3, 3, 3, 3, 3, 3, 3, 3, 3, 3, 3, 3, 2, 2, 2, 2, 2, 2, 2, 2, 2, 2, 2, 2, 2, 2, 2, 2, 2, 2, 2, 2, 2, 2, 2, 2, 2, 2, 2, 1, 1, 1, 1, 1, 1, 1, 1, 1, 1, 1, 1, 1, 1, 1, 1, 1, 1, 1, 1, 1, 1, 1, 1]\n",
      "5 highest frequency numbers:\n",
      "Number: 17 Frequecy: 7\n",
      "Number: 77 Frequecy: 6\n",
      "Number: 84 Frequecy: 5\n",
      "Number: 75 Frequecy: 5\n",
      "Number: 58 Frequecy: 5\n",
      "Number: 49 Frequecy: 5\n"
     ]
    }
   ],
   "source": [
    "# write code here ...\n",
    "#Method1\n",
    "dict1={}.fromkeys(myList,0)\n",
    "\n",
    "for w in myList:\n",
    "    dict1[w] += 1\n",
    "print(\"dict1:\")\n",
    "print(dict1)\n",
    "\n",
    "vals = list(dict1.values())\n",
    "print(\"vals:\")\n",
    "print(vals)\n",
    "\n",
    "vals.sort(reverse = True)\n",
    "print(vals)\n",
    "\n",
    "print('5 highest frequency numbers:')\n",
    "i = 0\n",
    "while i < 3:\n",
    "    for x,y in dict1.items(): \n",
    "        if y == vals[i]:\n",
    "            print(\"Number:\", x, \"Frequecy:\", y)\n",
    "    i += 1\n",
    "    "
   ]
  },
  {
   "cell_type": "markdown",
   "metadata": {},
   "source": [
    "9) Write a Python program to convert temperature from Centigrade to Fahrenheit\n",
    "and Fahrenheit to Centigrade. At the start, the program should ask which way we are converting.\n",
    "\n",
    "Then ask the user to input the temperature. Your program should do the conversion\n",
    "and print the results.\n",
    "\n",
    "(C x 9/5) + 32 = F"
   ]
  },
  {
   "cell_type": "code",
   "execution_count": 8,
   "metadata": {},
   "outputs": [
    {
     "name": "stdout",
     "output_type": "stream",
     "text": [
      " Enter 1: to convert from Centigrade to Fahrenheit \n",
      " Enter 2: to convert from Fahrenheit to Centigrade\n",
      "2\n",
      "Enter Temperature:67\n",
      "Temperature in Centigrade is 19.444444444444443\n"
     ]
    }
   ],
   "source": [
    "# Write code here \n",
    "Temp_type = input(\" Enter 1: to convert from Centigrade to Fahrenheit \\n Enter 2: to convert from Fahrenheit to Centigrade\\n\")\n",
    "Temp = input(\"Enter Temperature:\")\n",
    "\n",
    "if Temp_type == \"1\":\n",
    "    Out_temp = (float(Temp)*9/5) + 32\n",
    "    print( \"Temperature in Farenheit is\", Out_temp)\n",
    "elif Temp_type == \"2\":\n",
    "    Out_temp = (float(Temp) - 32)*5/9\n",
    "    print( \"Temperature in Centigrade is\", Out_temp)\n",
    "else:\n",
    "    print(\"Wrong Entry. Enter option 1 or 2\")\n",
    "    "
   ]
  },
  {
   "cell_type": "code",
   "execution_count": 7,
   "metadata": {},
   "outputs": [
    {
     "data": {
      "text/plain": [
       "'\\n10) Print the times table:\\n1x1=1 1x2=2 1x3=3 1x4=4 1x5=5\\n2x1=2 2x2=4 2x3=6 2x4=8 2x5=10\\n3x1=3 3x2=6 3x3=9 3x4=12 3x5=15\\n4x1=3 4x2=6 4x3=9 4x4=12 4x5=15\\n5x1=3 5x2=6 5x3=9 5x4=12 5x5=15\\n\\nUse for loop nested with for loop to print the above multiplication table\\n'"
      ]
     },
     "execution_count": 7,
     "metadata": {},
     "output_type": "execute_result"
    }
   ],
   "source": [
    "\"\"\"\n",
    "10) Print the times table:\n",
    "1x1=1 1x2=2 1x3=3 1x4=4 1x5=5\n",
    "2x1=2 2x2=4 2x3=6 2x4=8 2x5=10\n",
    "3x1=3 3x2=6 3x3=9 3x4=12 3x5=15\n",
    "4x1=3 4x2=6 4x3=9 4x4=12 4x5=15\n",
    "5x1=3 5x2=6 5x3=9 5x4=12 5x5=15\n",
    "\n",
    "Use for loop nested with for loop to print the above multiplication table\n",
    "\"\"\""
   ]
  },
  {
   "cell_type": "code",
   "execution_count": 28,
   "metadata": {},
   "outputs": [
    {
     "name": "stdout",
     "output_type": "stream",
     "text": [
      "1 x 1 = 1   1 x 2 = 2   1 x 3 = 3   1 x 4 = 4   1 x 5 = 5   \n",
      "2 x 1 = 2   2 x 2 = 4   2 x 3 = 6   2 x 4 = 8   2 x 5 = 10   \n",
      "3 x 1 = 3   3 x 2 = 6   3 x 3 = 9   3 x 4 = 12   3 x 5 = 15   \n",
      "4 x 1 = 4   4 x 2 = 8   4 x 3 = 12   4 x 4 = 16   4 x 5 = 20   \n",
      "5 x 1 = 5   5 x 2 = 10   5 x 3 = 15   5 x 4 = 20   5 x 5 = 25   \n"
     ]
    }
   ],
   "source": [
    "# write code here \n",
    "max_x = 5\n",
    "max_y = 5\n",
    "for x in range(max_x):\n",
    "    x = x + 1\n",
    "    for y in range(max_y):\n",
    "        y = y+ 1   \n",
    "        print(x,'x',y,'=',(x*y), end = '   ')\n",
    "    print()"
   ]
  },
  {
   "cell_type": "code",
   "execution_count": null,
   "metadata": {},
   "outputs": [],
   "source": []
  }
 ],
 "metadata": {
  "kernelspec": {
   "display_name": "Python 3",
   "language": "python",
   "name": "python3"
  },
  "language_info": {
   "codemirror_mode": {
    "name": "ipython",
    "version": 3
   },
   "file_extension": ".py",
   "mimetype": "text/x-python",
   "name": "python",
   "nbconvert_exporter": "python",
   "pygments_lexer": "ipython3",
   "version": "3.6.5"
  }
 },
 "nbformat": 4,
 "nbformat_minor": 2
}
