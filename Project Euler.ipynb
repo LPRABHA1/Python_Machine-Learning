{
 "cells": [
  {
   "cell_type": "code",
   "execution_count": 20,
   "metadata": {},
   "outputs": [],
   "source": [
    "# Problem 1:\n",
    "def product3_5():\n",
    "    try:\n",
    "        x = int(input(\"Enter number:\")) \n",
    "    except:\n",
    "        print(\"Enter a valid number\")\n",
    " #   print('x', x)\n",
    "    if x > 0:\n",
    "        product = 1\n",
    "        sum = 0\n",
    "        i = 1\n",
    "        while i < x:\n",
    "  #          print('i',i)\n",
    "            if i%3==0 or i%5==0:\n",
    "  #              print('i', i)\n",
    "                product = product * i\n",
    "                sum = sum + i\n",
    "             #   print('product:', product)\n",
    "             #   print('sum:', sum)\n",
    "            i = i+1\n",
    "        if product != 1:\n",
    "            print('Final Product:', product)\n",
    "            print('Final sum:', sum)\n",
    "        else:\n",
    "            print('Product is 0', 'Sum is 0')\n",
    "    else:\n",
    "        print('Product is 0', 'Sum is 0') "
   ]
  },
  {
   "cell_type": "code",
   "execution_count": 19,
   "metadata": {},
   "outputs": [
    {
     "name": "stdout",
     "output_type": "stream",
     "text": [
      "Enter number:1000\n",
      "Final Product: 1693004290488731353360486909793608224710618797167165102688536639594899636916274876052411011602103971024874637346480439719569751667553421423378314538103551285325050887514212914678773529088028144095097270627111525928307568420401645311890228283435268330893369540492624357019695538645035284482578894479531439231674626044683167947931635605438277921583608648092716620754337808079966312584653050707390993196019648675671418215437336303916263734629371441084957162222951959731569253900798370375858908200481917503537443024401405962870346753282375536988606339066812546240190421145910856904876640567018250832846806216464799237595982161047695385260183031977660506175400976469004017880799968474628417891667185892029575874164897611333964220082828119016568847336463005354368061009872964678712575927589691353432261188741041917680153001035653032067229479075747990971658488694669298406656088999801689563326653722735984128947830024798905969978378532515137248780693173960704000000000000000000000000000000000000000000000000000000000000000000000000000000000000000000000000000000000000000000000000000000000000000000000000000000000000000000000000000000000000000000000000000000000000000000000000000000000000000000000000000000\n",
      "Final sum: 233168\n"
     ]
    }
   ],
   "source": [
    "# Problem 1:\n",
    "product3_5()"
   ]
  },
  {
   "cell_type": "code",
   "execution_count": 23,
   "metadata": {},
   "outputs": [],
   "source": [
    "# Problem 2:\n",
    "def fibo_series():\n",
    "    x = int(input('Enter number of terms:'))\n",
    "    fib = [1,2]\n",
    "    i = 2\n",
    "    while i <= (x-1):\n",
    "        sum = fib[i-2] +fib[i-1]\n",
    "        fib.append(sum)\n",
    "        i= i+1\n",
    "    print(fib)"
   ]
  },
  {
   "cell_type": "code",
   "execution_count": 24,
   "metadata": {},
   "outputs": [
    {
     "name": "stdout",
     "output_type": "stream",
     "text": [
      "Enter number of terms:10\n",
      "[1, 2, 3, 5, 8, 13, 21, 34, 55, 89]\n"
     ]
    }
   ],
   "source": [
    "fibo_series()"
   ]
  },
  {
   "cell_type": "code",
   "execution_count": 45,
   "metadata": {},
   "outputs": [],
   "source": [
    "def fibo_4million():\n",
    "    fib = [1,2]\n",
    "    i = 1\n",
    "    sum1 = 0\n",
    "    while fib[i] < 4000000:\n",
    "#        print('i', i)\n",
    "        sum = fib[i-1] + fib[i]\n",
    "        fib.append(sum)\n",
    "        if fib[i]%2==0:\n",
    "            if fib[i] < 4000000:\n",
    "                print('i', i, 'fib[i]', fib[i])\n",
    "                sum1 = sum1 + fib[i]\n",
    "                print('sum1', sum1)\n",
    "        i= i+1\n",
    "    else:\n",
    "        print('sum of even numbers:', sum1)\n",
    "    print('fibo series', fib)\n",
    "    "
   ]
  },
  {
   "cell_type": "code",
   "execution_count": 46,
   "metadata": {},
   "outputs": [
    {
     "name": "stdout",
     "output_type": "stream",
     "text": [
      "i 1 fib[i] 2\n",
      "sum1 2\n",
      "i 4 fib[i] 8\n",
      "sum1 10\n",
      "i 7 fib[i] 34\n",
      "sum1 44\n",
      "i 10 fib[i] 144\n",
      "sum1 188\n",
      "i 13 fib[i] 610\n",
      "sum1 798\n",
      "i 16 fib[i] 2584\n",
      "sum1 3382\n",
      "i 19 fib[i] 10946\n",
      "sum1 14328\n",
      "i 22 fib[i] 46368\n",
      "sum1 60696\n",
      "i 25 fib[i] 196418\n",
      "sum1 257114\n",
      "i 28 fib[i] 832040\n",
      "sum1 1089154\n",
      "i 31 fib[i] 3524578\n",
      "sum1 4613732\n",
      "sum of even numbers: 4613732\n",
      "fibo series [1, 2, 3, 5, 8, 13, 21, 34, 55, 89, 144, 233, 377, 610, 987, 1597, 2584, 4181, 6765, 10946, 17711, 28657, 46368, 75025, 121393, 196418, 317811, 514229, 832040, 1346269, 2178309, 3524578, 5702887]\n"
     ]
    }
   ],
   "source": [
    "fibo_4million()"
   ]
  },
  {
   "cell_type": "code",
   "execution_count": 83,
   "metadata": {},
   "outputs": [],
   "source": [
    "#Problem 3:\n",
    "def Prime_factors(x):\n",
    "    \n",
    "    if x%2 == 0:\n",
    "        if x>2:\n",
    "            pass\n",
    "        else:\n",
    "            max_prime = 2 \n",
    "            print('max_prime', max_prime)\n",
    "            return()      \n",
    "   \n",
    "    i = 3\n",
    "    prime_list = []\n",
    "    \n",
    "    while i <= x:\n",
    "        not_prime_number = False\n",
    "#        print('1st i', i)\n",
    "        \n",
    "        if i%2 == 0:\n",
    "            not_prime_number = True\n",
    "      \n",
    "        if not_prime_number == False:\n",
    "#            print('2nd i', i)\n",
    "            if len(prime_list) > 0:\n",
    "                for j in prime_list:\n",
    "                    if not_prime_number == True:\n",
    "                        break\n",
    "#                    print('j', j)\n",
    "                    if i%j == 0:\n",
    "                        not_prime_number = True\n",
    "\n",
    "                        \n",
    "#        print('length', len(prime_list))\n",
    "                        \n",
    "        if not_prime_number == False:\n",
    "            prime_list.append(i)\n",
    "                \n",
    "            if x%i == 0:\n",
    "                max_prime = int(i)  \n",
    "#                print('max prime', max_prime)\n",
    "        \n",
    "        i = i+1\n",
    "#        print('last', i )\n",
    "        \n",
    "    print('max prime', max_prime)\n",
    "#    print(prime_list)"
   ]
  },
  {
   "cell_type": "code",
   "execution_count": null,
   "metadata": {},
   "outputs": [],
   "source": [
    "#Problem 3:\n",
    "import math \n",
    "def largest_prime(n): \n",
    "      \n",
    "    sqrt_n = math.floor(math.sqrt(n))\n",
    "    print(sqrt_n)\n",
    "    i = 2\n",
    "    largest = 0\n",
    "    for i in range(2,sqrt_n):\n",
    "        while n%i == 0:\n",
    "            n = n//i\n",
    "            largest = i\n",
    "            print(n, largest)\n",
    "    if largest > n:\n",
    "        return largest\n",
    "    else: \n",
    "        return n"
   ]
  },
  {
   "cell_type": "code",
   "execution_count": 2,
   "metadata": {},
   "outputs": [
    {
     "name": "stdout",
     "output_type": "stream",
     "text": [
      "775146\n",
      "8462696833 71\n",
      "10086647 839\n",
      "6857 1471\n",
      "1 6857\n",
      "6857\n"
     ]
    }
   ],
   "source": [
    "print(largest_prime(600851475143))"
   ]
  },
  {
   "cell_type": "code",
   "execution_count": 1,
   "metadata": {},
   "outputs": [
    {
     "name": "stdout",
     "output_type": "stream",
     "text": [
      "i 232792560\n"
     ]
    }
   ],
   "source": [
    "# Problem 5:\n",
    "max = 20\n",
    "i = 20\n",
    "while (i % 2 !=0 or i % 3 != 0 or i%4 !=0 or i%5 != 0 or i%6 != 0 or\n",
    "       i%7 !=0 or i%8 != 0 or i%9 !=0 or i%10 != 0 or\n",
    "       i%11 !=0 or i%12 != 0 or i%13 !=0 or i%14 !=0 or i%15 !=0 or i%16 != 0 or\n",
    "       i%17 !=0 or i%18 != 0 or i%19 !=0 or i%20 != 0):\n",
    "    i = i + 20\n",
    "print('i', i)"
   ]
  },
  {
   "cell_type": "markdown",
   "metadata": {},
   "source": [
    "Problem 6:\n",
    "Sum square difference:"
   ]
  },
  {
   "cell_type": "code",
   "execution_count": 49,
   "metadata": {},
   "outputs": [],
   "source": [
    "def ssd(x):\n",
    "# import numpy\n",
    "    import numpy as np\n",
    "# creating array from 1 to x    \n",
    "    arr1 = np.arange(1,(x+1),1)\n",
    "    arr1\n",
    "# sum of squares array\n",
    "    arr1_square = sum(np.square(arr1))\n",
    "    arr1_square\n",
    "# square of sum\n",
    "    arr3 = np.square(sum(arr1))\n",
    "    arr3\n",
    "# square of sum = sum of squares\n",
    "    arr1_ssd = arr3 - arr1_square\n",
    "    print('Difference of square of sum and sum of squares:', arr1_ssd)\n",
    "# remove numpy\n",
    "    del np"
   ]
  },
  {
   "cell_type": "code",
   "execution_count": 50,
   "metadata": {},
   "outputs": [
    {
     "name": "stdout",
     "output_type": "stream",
     "text": [
      "Difference of square of sum and sum of squares 25164150\n"
     ]
    }
   ],
   "source": [
    "ssd(100)"
   ]
  },
  {
   "cell_type": "markdown",
   "metadata": {},
   "source": [
    "Problem 4 : Largest palindrome product\n",
    "A palindromic number reads the same both ways. The largest palindrome made from the product of two 2-digit numbers is 9009 = 91 × 99.\n",
    "\n",
    "Find the largest palindrome made from the product of two 3-digit numbers."
   ]
  },
  {
   "cell_type": "code",
   "execution_count": 2,
   "metadata": {},
   "outputs": [
    {
     "data": {
      "text/plain": [
       "906609"
      ]
     },
     "execution_count": 2,
     "metadata": {},
     "output_type": "execute_result"
    }
   ],
   "source": [
    "l_list = []\n",
    "for i in range(999,99,-1):\n",
    "    for j in range(999,99,-1):\n",
    "        s_str = str(i*j)\n",
    "        type(s_str)\n",
    "        x = 0\n",
    "        p_str = ''\n",
    "        l = len(s_str) - 1\n",
    "        while x < len(s_str):\n",
    "#            print(x)\n",
    "            p_str = p_str + s_str[l-x]\n",
    "            p_str = p_str.strip()\n",
    "            x = x + 1\n",
    "        if p_str == s_str:\n",
    "            l_list.append(int(s_str))\n",
    "            \n",
    "#print(l_list)\n",
    "int_list = max(l_list)\n",
    "int_list"
   ]
  },
  {
   "cell_type": "code",
   "execution_count": null,
   "metadata": {},
   "outputs": [],
   "source": []
  }
 ],
 "metadata": {
  "kernelspec": {
   "display_name": "Python 3",
   "language": "python",
   "name": "python3"
  },
  "language_info": {
   "codemirror_mode": {
    "name": "ipython",
    "version": 3
   },
   "file_extension": ".py",
   "mimetype": "text/x-python",
   "name": "python",
   "nbconvert_exporter": "python",
   "pygments_lexer": "ipython3",
   "version": "3.6.5"
  }
 },
 "nbformat": 4,
 "nbformat_minor": 2
}
